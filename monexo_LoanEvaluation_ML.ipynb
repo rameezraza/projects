{
 "cells": [
  {
   "cell_type": "markdown",
   "metadata": {
    "deletable": true,
    "editable": true
   },
   "source": [
    "## MONEXO DPD CASE STUDY(EVALUATIONG ELIGIBILITY FOR LOAN)\n",
    "## AUTHOR - RAMEEZ RAZA\n",
    "## Part-2"
   ]
  },
  {
   "cell_type": "markdown",
   "metadata": {
    "deletable": true,
    "editable": true
   },
   "source": [
    "## IMPORTING IMPORTANT LIBRARIES"
   ]
  },
  {
   "cell_type": "code",
   "execution_count": 57,
   "metadata": {
    "collapsed": true,
    "deletable": true,
    "editable": true
   },
   "outputs": [],
   "source": [
    "import numpy as np\n",
    "import pandas as pd\n",
    "from sklearn.feature_selection import SelectKBest\n",
    "from sklearn.feature_selection import chi2\n",
    "from sklearn.decomposition import PCA\n",
    "import warnings\n",
    "warnings.filterwarnings('ignore')"
   ]
  },
  {
   "cell_type": "markdown",
   "metadata": {
    "deletable": true,
    "editable": true
   },
   "source": [
    "## READING THE DATA"
   ]
  },
  {
   "cell_type": "code",
   "execution_count": 34,
   "metadata": {
    "collapsed": false,
    "deletable": true,
    "editable": true
   },
   "outputs": [
    {
     "name": "stdout",
     "output_type": "stream",
     "text": [
      "(1990, 37)\n"
     ]
    },
    {
     "data": {
      "text/html": [
       "<div>\n",
       "<style scoped>\n",
       "    .dataframe tbody tr th:only-of-type {\n",
       "        vertical-align: middle;\n",
       "    }\n",
       "\n",
       "    .dataframe tbody tr th {\n",
       "        vertical-align: top;\n",
       "    }\n",
       "\n",
       "    .dataframe thead th {\n",
       "        text-align: right;\n",
       "    }\n",
       "</style>\n",
       "<table border=\"1\" class=\"dataframe\">\n",
       "  <thead>\n",
       "    <tr style=\"text-align: right;\">\n",
       "      <th></th>\n",
       "      <th>Linkedin.is.Verified</th>\n",
       "      <th>Facebook.is.Verified</th>\n",
       "      <th>Date.of.Birth</th>\n",
       "      <th>Gender</th>\n",
       "      <th>Education.Level</th>\n",
       "      <th>No.of.dependents</th>\n",
       "      <th>Detailed.reason.by.Applicant</th>\n",
       "      <th>CRIF.S1.Score</th>\n",
       "      <th>Application.incomplete.date</th>\n",
       "      <th>Loan.Amount</th>\n",
       "      <th>...</th>\n",
       "      <th>Residential.status</th>\n",
       "      <th>UTM.Source</th>\n",
       "      <th>Created.Date</th>\n",
       "      <th>pymt_standing</th>\n",
       "      <th>Interest.Rate</th>\n",
       "      <th>Maturity.Date</th>\n",
       "      <th>Total.Amount.Paid</th>\n",
       "      <th>Principal.Advance.Remaining</th>\n",
       "      <th>Delinquent.Amount</th>\n",
       "      <th>Fee.Set</th>\n",
       "    </tr>\n",
       "  </thead>\n",
       "  <tbody>\n",
       "    <tr>\n",
       "      <th>0</th>\n",
       "      <td>NaN</td>\n",
       "      <td>NaN</td>\n",
       "      <td>03-07-1980</td>\n",
       "      <td>Male</td>\n",
       "      <td>Professional</td>\n",
       "      <td>1 to 2</td>\n",
       "      <td>I am working as Software Eng in a IT firm sinc...</td>\n",
       "      <td>753.0</td>\n",
       "      <td>01-03-2017</td>\n",
       "      <td>200000</td>\n",
       "      <td>...</td>\n",
       "      <td>Rented</td>\n",
       "      <td>NaN</td>\n",
       "      <td>18-11-2016</td>\n",
       "      <td>Active - Good Standing</td>\n",
       "      <td>16.41</td>\n",
       "      <td>04-01-2020</td>\n",
       "      <td>113840.00</td>\n",
       "      <td>123741.56</td>\n",
       "      <td>0.00</td>\n",
       "      <td>1-M3</td>\n",
       "    </tr>\n",
       "    <tr>\n",
       "      <th>1</th>\n",
       "      <td>NaN</td>\n",
       "      <td>NaN</td>\n",
       "      <td>06-02-1983</td>\n",
       "      <td>Male</td>\n",
       "      <td>Graduate</td>\n",
       "      <td>1 to 2</td>\n",
       "      <td>I am working as an analyst Programmer in a IT ...</td>\n",
       "      <td>NaN</td>\n",
       "      <td>18-11-2016</td>\n",
       "      <td>85000</td>\n",
       "      <td>...</td>\n",
       "      <td>Rented</td>\n",
       "      <td>NaN</td>\n",
       "      <td>18-11-2016</td>\n",
       "      <td>Active - Good Standing</td>\n",
       "      <td>19.50</td>\n",
       "      <td>12-01-2018</td>\n",
       "      <td>87209.00</td>\n",
       "      <td>16762.90</td>\n",
       "      <td>0.00</td>\n",
       "      <td>1-M5</td>\n",
       "    </tr>\n",
       "    <tr>\n",
       "      <th>2</th>\n",
       "      <td>NaN</td>\n",
       "      <td>NaN</td>\n",
       "      <td>20/12/1994</td>\n",
       "      <td>Male</td>\n",
       "      <td>Upto Hr Secondary</td>\n",
       "      <td>0</td>\n",
       "      <td>I have enough salary enough that i can take ca...</td>\n",
       "      <td>NaN</td>\n",
       "      <td>19-11-2016</td>\n",
       "      <td>50000</td>\n",
       "      <td>...</td>\n",
       "      <td>Self or spouse owned</td>\n",
       "      <td>NaN</td>\n",
       "      <td>19-11-2016</td>\n",
       "      <td>Active - Bad Standing</td>\n",
       "      <td>16.07</td>\n",
       "      <td>12-01-2018</td>\n",
       "      <td>31222.92</td>\n",
       "      <td>30407.81</td>\n",
       "      <td>19500.56</td>\n",
       "      <td>1-M3</td>\n",
       "    </tr>\n",
       "    <tr>\n",
       "      <th>3</th>\n",
       "      <td>NaN</td>\n",
       "      <td>NaN</td>\n",
       "      <td>20/4/1981</td>\n",
       "      <td>Male</td>\n",
       "      <td>Graduate</td>\n",
       "      <td>1 to 2</td>\n",
       "      <td>Hi team my name is Balaji Polam,from last mont...</td>\n",
       "      <td>NaN</td>\n",
       "      <td>20-11-2016</td>\n",
       "      <td>130000</td>\n",
       "      <td>...</td>\n",
       "      <td>Self or spouse owned</td>\n",
       "      <td>NaN</td>\n",
       "      <td>20-11-2016</td>\n",
       "      <td>Closed - Obligations met</td>\n",
       "      <td>24.23</td>\n",
       "      <td>12-01-2019</td>\n",
       "      <td>174238.16</td>\n",
       "      <td>0.00</td>\n",
       "      <td>0.00</td>\n",
       "      <td>1-M7</td>\n",
       "    </tr>\n",
       "    <tr>\n",
       "      <th>4</th>\n",
       "      <td>NaN</td>\n",
       "      <td>NaN</td>\n",
       "      <td>29/5/1977</td>\n",
       "      <td>Male</td>\n",
       "      <td>Post Graduate</td>\n",
       "      <td>3 to 5</td>\n",
       "      <td>I want to pay children's education fess and my...</td>\n",
       "      <td>NaN</td>\n",
       "      <td>21-11-2016</td>\n",
       "      <td>85000</td>\n",
       "      <td>...</td>\n",
       "      <td>Company Quarters</td>\n",
       "      <td>NaN</td>\n",
       "      <td>21-11-2016</td>\n",
       "      <td>Active - Good Standing</td>\n",
       "      <td>19.55</td>\n",
       "      <td>12-01-2019</td>\n",
       "      <td>63229.00</td>\n",
       "      <td>47146.24</td>\n",
       "      <td>0.00</td>\n",
       "      <td>1-M5</td>\n",
       "    </tr>\n",
       "  </tbody>\n",
       "</table>\n",
       "<p>5 rows × 37 columns</p>\n",
       "</div>"
      ],
      "text/plain": [
       "   Linkedin.is.Verified  Facebook.is.Verified Date.of.Birth Gender  \\\n",
       "0                   NaN                   NaN    03-07-1980   Male   \n",
       "1                   NaN                   NaN    06-02-1983   Male   \n",
       "2                   NaN                   NaN    20/12/1994   Male   \n",
       "3                   NaN                   NaN     20/4/1981   Male   \n",
       "4                   NaN                   NaN     29/5/1977   Male   \n",
       "\n",
       "     Education.Level No.of.dependents  \\\n",
       "0       Professional           1 to 2   \n",
       "1           Graduate           1 to 2   \n",
       "2  Upto Hr Secondary                0   \n",
       "3           Graduate           1 to 2   \n",
       "4      Post Graduate           3 to 5   \n",
       "\n",
       "                        Detailed.reason.by.Applicant  CRIF.S1.Score  \\\n",
       "0  I am working as Software Eng in a IT firm sinc...          753.0   \n",
       "1  I am working as an analyst Programmer in a IT ...            NaN   \n",
       "2  I have enough salary enough that i can take ca...            NaN   \n",
       "3  Hi team my name is Balaji Polam,from last mont...            NaN   \n",
       "4  I want to pay children's education fess and my...            NaN   \n",
       "\n",
       "  Application.incomplete.date  Loan.Amount   ...      Residential.status  \\\n",
       "0                  01-03-2017       200000   ...                  Rented   \n",
       "1                  18-11-2016        85000   ...                  Rented   \n",
       "2                  19-11-2016        50000   ...    Self or spouse owned   \n",
       "3                  20-11-2016       130000   ...    Self or spouse owned   \n",
       "4                  21-11-2016        85000   ...        Company Quarters   \n",
       "\n",
       "   UTM.Source  Created.Date             pymt_standing  Interest.Rate  \\\n",
       "0         NaN    18-11-2016    Active - Good Standing          16.41   \n",
       "1         NaN    18-11-2016    Active - Good Standing          19.50   \n",
       "2         NaN    19-11-2016     Active - Bad Standing          16.07   \n",
       "3         NaN    20-11-2016  Closed - Obligations met          24.23   \n",
       "4         NaN    21-11-2016    Active - Good Standing          19.55   \n",
       "\n",
       "  Maturity.Date  Total.Amount.Paid Principal.Advance.Remaining  \\\n",
       "0    04-01-2020          113840.00                   123741.56   \n",
       "1    12-01-2018           87209.00                    16762.90   \n",
       "2    12-01-2018           31222.92                    30407.81   \n",
       "3    12-01-2019          174238.16                        0.00   \n",
       "4    12-01-2019           63229.00                    47146.24   \n",
       "\n",
       "   Delinquent.Amount Fee.Set  \n",
       "0               0.00    1-M3  \n",
       "1               0.00    1-M5  \n",
       "2           19500.56    1-M3  \n",
       "3               0.00    1-M7  \n",
       "4               0.00    1-M5  \n",
       "\n",
       "[5 rows x 37 columns]"
      ]
     },
     "execution_count": 34,
     "metadata": {},
     "output_type": "execute_result"
    }
   ],
   "source": [
    "data=pd.read_csv('C:/Users/Administrator/Desktop/reconfirmationofinterview/Datafinal.csv', encoding='latin')\n",
    "print(data.shape)\n",
    "data.head()"
   ]
  },
  {
   "cell_type": "markdown",
   "metadata": {
    "deletable": true,
    "editable": true
   },
   "source": [
    "## COUNTING THE NULL VALUES"
   ]
  },
  {
   "cell_type": "code",
   "execution_count": 35,
   "metadata": {
    "collapsed": false,
    "deletable": true,
    "editable": true
   },
   "outputs": [
    {
     "data": {
      "text/plain": [
       "Linkedin.is.Verified                        1443\n",
       "Facebook.is.Verified                        1186\n",
       "Date.of.Birth                                  3\n",
       "Gender                                         3\n",
       "Education.Level                                3\n",
       "No.of.dependents                               3\n",
       "Detailed.reason.by.Applicant                   7\n",
       "CRIF.S1.Score                                188\n",
       "Application.incomplete.date                   95\n",
       "Loan.Amount                                    0\n",
       "Payment.Amount                                 0\n",
       "Interest.Paid                                  0\n",
       "Principal.Advance.Paid                         0\n",
       "Contract.Date                                  0\n",
       "EPFO.Verification.Status                    1990\n",
       "Marital.status                                 3\n",
       "Total.years.of.experience.in.Employment.       3\n",
       "Application.Completion.time                   18\n",
       "Term                                           0\n",
       "First.Payment.Date.y                           0\n",
       "Estimated.Interest                             0\n",
       "Last.Payment.Date                            195\n",
       "Bank.Transactions.Fetched                      3\n",
       "Debt.service.ratio                            17\n",
       "Application.ID                                 3\n",
       "Salary.Income.current.month                    3\n",
       "CL.Purpose..Name                               3\n",
       "Residential.status                             3\n",
       "UTM.Source                                   940\n",
       "Created.Date                                   3\n",
       "pymt_standing                                  0\n",
       "Interest.Rate                                  0\n",
       "Maturity.Date                                  0\n",
       "Total.Amount.Paid                              0\n",
       "Principal.Advance.Remaining                    0\n",
       "Delinquent.Amount                              0\n",
       "Fee.Set                                        0\n",
       "dtype: int64"
      ]
     },
     "execution_count": 35,
     "metadata": {},
     "output_type": "execute_result"
    }
   ],
   "source": [
    "data.isnull().sum()"
   ]
  },
  {
   "cell_type": "markdown",
   "metadata": {
    "deletable": true,
    "editable": true
   },
   "source": [
    "## CLEANING THE DATA"
   ]
  },
  {
   "cell_type": "code",
   "execution_count": 36,
   "metadata": {
    "collapsed": true,
    "deletable": true,
    "editable": true
   },
   "outputs": [],
   "source": [
    "df=data.drop(['Linkedin.is.Verified','Facebook.is.Verified','EPFO.Verification.Status','UTM.Source','Detailed.reason.by.Applicant'],axis=1)"
   ]
  },
  {
   "cell_type": "code",
   "execution_count": 37,
   "metadata": {
    "collapsed": true,
    "deletable": true,
    "editable": true
   },
   "outputs": [],
   "source": [
    "df['CRIF.S1.Score'].fillna(0, inplace=True)"
   ]
  },
  {
   "cell_type": "code",
   "execution_count": 38,
   "metadata": {
    "collapsed": false,
    "deletable": true,
    "editable": true
   },
   "outputs": [
    {
     "data": {
      "text/html": [
       "<div>\n",
       "<style scoped>\n",
       "    .dataframe tbody tr th:only-of-type {\n",
       "        vertical-align: middle;\n",
       "    }\n",
       "\n",
       "    .dataframe tbody tr th {\n",
       "        vertical-align: top;\n",
       "    }\n",
       "\n",
       "    .dataframe thead th {\n",
       "        text-align: right;\n",
       "    }\n",
       "</style>\n",
       "<table border=\"1\" class=\"dataframe\">\n",
       "  <thead>\n",
       "    <tr style=\"text-align: right;\">\n",
       "      <th></th>\n",
       "      <th>Date.of.Birth</th>\n",
       "      <th>Gender</th>\n",
       "      <th>Education.Level</th>\n",
       "      <th>No.of.dependents</th>\n",
       "      <th>CRIF.S1.Score</th>\n",
       "      <th>Application.incomplete.date</th>\n",
       "      <th>Loan.Amount</th>\n",
       "      <th>Payment.Amount</th>\n",
       "      <th>Interest.Paid</th>\n",
       "      <th>Principal.Advance.Paid</th>\n",
       "      <th>...</th>\n",
       "      <th>CL.Purpose..Name</th>\n",
       "      <th>Residential.status</th>\n",
       "      <th>Created.Date</th>\n",
       "      <th>pymt_standing</th>\n",
       "      <th>Interest.Rate</th>\n",
       "      <th>Maturity.Date</th>\n",
       "      <th>Total.Amount.Paid</th>\n",
       "      <th>Principal.Advance.Remaining</th>\n",
       "      <th>Delinquent.Amount</th>\n",
       "      <th>Fee.Set</th>\n",
       "    </tr>\n",
       "  </thead>\n",
       "  <tbody>\n",
       "    <tr>\n",
       "      <th>0</th>\n",
       "      <td>03-07-1980</td>\n",
       "      <td>Male</td>\n",
       "      <td>Professional</td>\n",
       "      <td>1 to 2</td>\n",
       "      <td>753.0</td>\n",
       "      <td>01-03-2017</td>\n",
       "      <td>200000</td>\n",
       "      <td>7114.15</td>\n",
       "      <td>37581.56</td>\n",
       "      <td>76258.44</td>\n",
       "      <td>...</td>\n",
       "      <td>Home renovation</td>\n",
       "      <td>Rented</td>\n",
       "      <td>18-11-2016</td>\n",
       "      <td>Active - Good Standing</td>\n",
       "      <td>16.41</td>\n",
       "      <td>04-01-2020</td>\n",
       "      <td>113840.0</td>\n",
       "      <td>123741.56</td>\n",
       "      <td>0.0</td>\n",
       "      <td>1-M3</td>\n",
       "    </tr>\n",
       "  </tbody>\n",
       "</table>\n",
       "<p>1 rows × 32 columns</p>\n",
       "</div>"
      ],
      "text/plain": [
       "  Date.of.Birth Gender Education.Level No.of.dependents  CRIF.S1.Score  \\\n",
       "0    03-07-1980   Male    Professional           1 to 2          753.0   \n",
       "\n",
       "  Application.incomplete.date  Loan.Amount  Payment.Amount  Interest.Paid  \\\n",
       "0                  01-03-2017       200000         7114.15       37581.56   \n",
       "\n",
       "   Principal.Advance.Paid   ...    CL.Purpose..Name Residential.status  \\\n",
       "0                76258.44   ...     Home renovation             Rented   \n",
       "\n",
       "   Created.Date           pymt_standing  Interest.Rate Maturity.Date  \\\n",
       "0    18-11-2016  Active - Good Standing          16.41    04-01-2020   \n",
       "\n",
       "   Total.Amount.Paid Principal.Advance.Remaining  Delinquent.Amount  Fee.Set  \n",
       "0           113840.0                   123741.56                0.0     1-M3  \n",
       "\n",
       "[1 rows x 32 columns]"
      ]
     },
     "execution_count": 38,
     "metadata": {},
     "output_type": "execute_result"
    }
   ],
   "source": [
    "df.head(1)"
   ]
  },
  {
   "cell_type": "code",
   "execution_count": 39,
   "metadata": {
    "collapsed": false,
    "deletable": true,
    "editable": true
   },
   "outputs": [
    {
     "name": "stdout",
     "output_type": "stream",
     "text": [
      "Date.of.Birth                               0\n",
      "Gender                                      0\n",
      "Education.Level                             0\n",
      "No.of.dependents                            0\n",
      "CRIF.S1.Score                               0\n",
      "Application.incomplete.date                 0\n",
      "Loan.Amount                                 0\n",
      "Payment.Amount                              0\n",
      "Interest.Paid                               0\n",
      "Principal.Advance.Paid                      0\n",
      "Contract.Date                               0\n",
      "Marital.status                              0\n",
      "Total.years.of.experience.in.Employment.    0\n",
      "Application.Completion.time                 0\n",
      "Term                                        0\n",
      "First.Payment.Date.y                        0\n",
      "Estimated.Interest                          0\n",
      "Last.Payment.Date                           0\n",
      "Bank.Transactions.Fetched                   0\n",
      "Debt.service.ratio                          0\n",
      "Application.ID                              0\n",
      "Salary.Income.current.month                 0\n",
      "CL.Purpose..Name                            0\n",
      "Residential.status                          0\n",
      "Created.Date                                0\n",
      "pymt_standing                               0\n",
      "Interest.Rate                               0\n",
      "Maturity.Date                               0\n",
      "Total.Amount.Paid                           0\n",
      "Principal.Advance.Remaining                 0\n",
      "Delinquent.Amount                           0\n",
      "Fee.Set                                     0\n",
      "dtype: int64\n"
     ]
    }
   ],
   "source": [
    "for i in df.columns:\n",
    "    df[i].fillna(df[i].mode()[0], inplace=True)\n",
    "print(df.isnull().sum())"
   ]
  },
  {
   "cell_type": "code",
   "execution_count": 40,
   "metadata": {
    "collapsed": false,
    "deletable": true,
    "editable": true
   },
   "outputs": [
    {
     "data": {
      "text/html": [
       "<div>\n",
       "<style scoped>\n",
       "    .dataframe tbody tr th:only-of-type {\n",
       "        vertical-align: middle;\n",
       "    }\n",
       "\n",
       "    .dataframe tbody tr th {\n",
       "        vertical-align: top;\n",
       "    }\n",
       "\n",
       "    .dataframe thead th {\n",
       "        text-align: right;\n",
       "    }\n",
       "</style>\n",
       "<table border=\"1\" class=\"dataframe\">\n",
       "  <thead>\n",
       "    <tr style=\"text-align: right;\">\n",
       "      <th></th>\n",
       "      <th>CRIF.S1.Score</th>\n",
       "      <th>Loan.Amount</th>\n",
       "      <th>Payment.Amount</th>\n",
       "      <th>Interest.Paid</th>\n",
       "      <th>Principal.Advance.Paid</th>\n",
       "      <th>Total.years.of.experience.in.Employment.</th>\n",
       "      <th>Term</th>\n",
       "      <th>Estimated.Interest</th>\n",
       "      <th>Bank.Transactions.Fetched</th>\n",
       "      <th>Debt.service.ratio</th>\n",
       "      <th>Salary.Income.current.month</th>\n",
       "      <th>Interest.Rate</th>\n",
       "      <th>Total.Amount.Paid</th>\n",
       "      <th>Principal.Advance.Remaining</th>\n",
       "      <th>Delinquent.Amount</th>\n",
       "    </tr>\n",
       "  </thead>\n",
       "  <tbody>\n",
       "    <tr>\n",
       "      <th>0</th>\n",
       "      <td>753.0</td>\n",
       "      <td>200000</td>\n",
       "      <td>7114.15</td>\n",
       "      <td>37581.56</td>\n",
       "      <td>76258.44</td>\n",
       "      <td>11.0</td>\n",
       "      <td>36</td>\n",
       "      <td>56109.3</td>\n",
       "      <td>0.0</td>\n",
       "      <td>47.54</td>\n",
       "      <td>33832.0</td>\n",
       "      <td>16.41</td>\n",
       "      <td>113840.0</td>\n",
       "      <td>123741.56</td>\n",
       "      <td>0.0</td>\n",
       "    </tr>\n",
       "  </tbody>\n",
       "</table>\n",
       "</div>"
      ],
      "text/plain": [
       "   CRIF.S1.Score  Loan.Amount  Payment.Amount  Interest.Paid  \\\n",
       "0          753.0       200000         7114.15       37581.56   \n",
       "\n",
       "   Principal.Advance.Paid  Total.years.of.experience.in.Employment.  Term  \\\n",
       "0                76258.44                                      11.0    36   \n",
       "\n",
       "   Estimated.Interest  Bank.Transactions.Fetched  Debt.service.ratio  \\\n",
       "0             56109.3                        0.0               47.54   \n",
       "\n",
       "   Salary.Income.current.month  Interest.Rate  Total.Amount.Paid  \\\n",
       "0                      33832.0          16.41           113840.0   \n",
       "\n",
       "   Principal.Advance.Remaining  Delinquent.Amount  \n",
       "0                    123741.56                0.0  "
      ]
     },
     "execution_count": 40,
     "metadata": {},
     "output_type": "execute_result"
    }
   ],
   "source": [
    "numerics = ['int16', 'int32', 'int64', 'float16', 'float32', 'float64']\n",
    "newdf = df.select_dtypes(include=numerics)\n",
    "newdf.head(1)"
   ]
  },
  {
   "cell_type": "code",
   "execution_count": 41,
   "metadata": {
    "collapsed": true,
    "deletable": true,
    "editable": true
   },
   "outputs": [],
   "source": [
    "newdf['answer']=df['pymt_standing']"
   ]
  },
  {
   "cell_type": "markdown",
   "metadata": {
    "deletable": true,
    "editable": true
   },
   "source": [
    "## TRAIN TEST SPLIT"
   ]
  },
  {
   "cell_type": "code",
   "execution_count": 43,
   "metadata": {
    "collapsed": true,
    "deletable": true,
    "editable": true
   },
   "outputs": [],
   "source": [
    "from sklearn.model_selection import train_test_split\n",
    "dfd= pd.get_dummies(newdf.drop('answer',axis=1))\n",
    "dfd['answer']=newdf['answer']"
   ]
  },
  {
   "cell_type": "code",
   "execution_count": 44,
   "metadata": {
    "collapsed": true,
    "deletable": true,
    "editable": true
   },
   "outputs": [],
   "source": [
    "train, test = train_test_split(dfd,test_size=0.3,random_state=100)\n",
    "train_x = train.drop('answer', axis=1)\n",
    "train_y = train['answer']\n",
    "test_x = test.drop('answer', axis=1)\n",
    "test_y = test['answer']"
   ]
  },
  {
   "cell_type": "code",
   "execution_count": 45,
   "metadata": {
    "collapsed": false,
    "deletable": true,
    "editable": true
   },
   "outputs": [
    {
     "data": {
      "text/plain": [
       "((1393, 15), (1393,))"
      ]
     },
     "execution_count": 45,
     "metadata": {},
     "output_type": "execute_result"
    }
   ],
   "source": [
    "train_x.shape,train_y.shape"
   ]
  },
  {
   "cell_type": "code",
   "execution_count": 46,
   "metadata": {
    "collapsed": false,
    "deletable": true,
    "editable": true
   },
   "outputs": [
    {
     "data": {
      "text/plain": [
       "((597, 15), (597,))"
      ]
     },
     "execution_count": 46,
     "metadata": {},
     "output_type": "execute_result"
    }
   ],
   "source": [
    "test_x.shape,test_y.shape"
   ]
  },
  {
   "cell_type": "markdown",
   "metadata": {
    "deletable": true,
    "editable": true
   },
   "source": [
    "## CHECKING THE ACCURACIES FOR DIFFERENT MACHINE LEARNING MODELS"
   ]
  },
  {
   "cell_type": "code",
   "execution_count": 47,
   "metadata": {
    "collapsed": false,
    "deletable": true,
    "editable": true
   },
   "outputs": [
    {
     "data": {
      "text/html": [
       "<div>\n",
       "<style scoped>\n",
       "    .dataframe tbody tr th:only-of-type {\n",
       "        vertical-align: middle;\n",
       "    }\n",
       "\n",
       "    .dataframe tbody tr th {\n",
       "        vertical-align: top;\n",
       "    }\n",
       "\n",
       "    .dataframe thead th {\n",
       "        text-align: right;\n",
       "    }\n",
       "</style>\n",
       "<table border=\"1\" class=\"dataframe\">\n",
       "  <thead>\n",
       "    <tr style=\"text-align: right;\">\n",
       "      <th></th>\n",
       "      <th>Accuracy</th>\n",
       "    </tr>\n",
       "  </thead>\n",
       "  <tbody>\n",
       "    <tr>\n",
       "      <th>Decision Tree</th>\n",
       "      <td>99.664992</td>\n",
       "    </tr>\n",
       "    <tr>\n",
       "      <th>Random Forest</th>\n",
       "      <td>99.664992</td>\n",
       "    </tr>\n",
       "    <tr>\n",
       "      <th>Ada Boost</th>\n",
       "      <td>99.664992</td>\n",
       "    </tr>\n",
       "    <tr>\n",
       "      <th>Naive Bayes</th>\n",
       "      <td>98.659966</td>\n",
       "    </tr>\n",
       "    <tr>\n",
       "      <th>KNN</th>\n",
       "      <td>91.959799</td>\n",
       "    </tr>\n",
       "  </tbody>\n",
       "</table>\n",
       "</div>"
      ],
      "text/plain": [
       "                Accuracy\n",
       "Decision Tree  99.664992\n",
       "Random Forest  99.664992\n",
       "Ada Boost      99.664992\n",
       "Naive Bayes    98.659966\n",
       "KNN            91.959799"
      ]
     },
     "execution_count": 47,
     "metadata": {},
     "output_type": "execute_result"
    }
   ],
   "source": [
    "import numpy as np\n",
    "import pandas as pd\n",
    "from sklearn.tree import DecisionTreeClassifier\n",
    "from sklearn.ensemble import RandomForestClassifier\n",
    "from sklearn.neighbors import KNeighborsClassifier\n",
    "from sklearn.ensemble import AdaBoostClassifier\n",
    "from sklearn.metrics import accuracy_score, confusion_matrix\n",
    "from sklearn.naive_bayes import GaussianNB\n",
    "from sklearn.model_selection import train_test_split\n",
    "l=[]\n",
    "model_1aa=DecisionTreeClassifier(max_depth=3)\n",
    "model_2aa=RandomForestClassifier(n_estimators=100)\n",
    "model_3aa=KNeighborsClassifier(n_neighbors=5)\n",
    "model_4aa=AdaBoostClassifier(n_estimators=100)\n",
    "model_5aa=GaussianNB()\n",
    "a=(model_1aa,model_2aa,model_3aa,model_4aa,model_5aa)\n",
    "for i in a:\n",
    "    i.fit(train_x,train_y)\n",
    "    pred_test=i.predict(test_x)\n",
    "    a=accuracy_score(test_y,pred_test)\n",
    "    l.append(a*100)\n",
    "df=(pd.DataFrame({'Accuracy':l},index=['Decision Tree','Random Forest','KNN','Ada Boost','Naive Bayes']).sort_values('Accuracy',ascending=False))\n",
    "df"
   ]
  },
  {
   "cell_type": "markdown",
   "metadata": {
    "deletable": true,
    "editable": true
   },
   "source": [
    "## TAKING ADA-BOOST AS OPTIMAL CLASSIFIER.\n",
    "## TESTING IT ON THE TEST DATASET CREATED MANUALLY"
   ]
  },
  {
   "cell_type": "code",
   "execution_count": 48,
   "metadata": {
    "collapsed": false,
    "deletable": true,
    "editable": true
   },
   "outputs": [
    {
     "data": {
      "text/plain": [
       "(Index(['Linkedin.is.Verified', 'Facebook.is.Verified', 'Date.of.Birth',\n",
       "        'Gender', 'Education.Level', 'No.of.dependents',\n",
       "        'Detailed.reason.by.Applicant', 'CRIF.S1.Score',\n",
       "        'Application.incomplete.date', 'Loan.Amount', 'Payment.Amount',\n",
       "        'Interest.Paid', 'Principal.Advance.Paid', 'Contract.Date',\n",
       "        'EPFO.Verification.Status', 'Marital.status',\n",
       "        'Total.years.of.experience.in.Employment.',\n",
       "        'Application.Completion.time', 'Term', 'First.Payment.Date.y',\n",
       "        'Estimated.Interest', 'Last.Payment.Date', 'Bank.Transactions.Fetched',\n",
       "        'Debt.service.ratio', 'Application.ID', 'Salary.Income.current.month',\n",
       "        'CL.Purpose..Name', 'Residential.status', 'UTM.Source', 'Created.Date',\n",
       "        'Interest.Rate', 'Maturity.Date', 'Total.Amount.Paid',\n",
       "        'Principal.Advance.Remaining', 'Delinquent.Amount', 'Fee.Set'],\n",
       "       dtype='object'), (9, 36))"
      ]
     },
     "execution_count": 48,
     "metadata": {},
     "output_type": "execute_result"
    }
   ],
   "source": [
    "zzzz=pd.read_csv('C:/Users/Administrator/Desktop/reconfirmationofinterview/TESTING.csv')\n",
    "zzzz.columns,zzzz.shape"
   ]
  },
  {
   "cell_type": "code",
   "execution_count": 56,
   "metadata": {
    "collapsed": false,
    "deletable": true,
    "editable": true
   },
   "outputs": [
    {
     "name": "stdout",
     "output_type": "stream",
     "text": [
      "enter path of file (eg: C:/Users/Administrator/Desktop/TEST.csv)C:/Users/Administrator/Desktop/reconfirmationofinterview/TESTING.csv\n"
     ]
    },
    {
     "data": {
      "text/html": [
       "<div>\n",
       "<style scoped>\n",
       "    .dataframe tbody tr th:only-of-type {\n",
       "        vertical-align: middle;\n",
       "    }\n",
       "\n",
       "    .dataframe tbody tr th {\n",
       "        vertical-align: top;\n",
       "    }\n",
       "\n",
       "    .dataframe thead th {\n",
       "        text-align: right;\n",
       "    }\n",
       "</style>\n",
       "<table border=\"1\" class=\"dataframe\">\n",
       "  <thead>\n",
       "    <tr style=\"text-align: right;\">\n",
       "      <th></th>\n",
       "      <th>row_number</th>\n",
       "      <th>Model_predciction</th>\n",
       "    </tr>\n",
       "  </thead>\n",
       "  <tbody>\n",
       "    <tr>\n",
       "      <th>0</th>\n",
       "      <td>1</td>\n",
       "      <td>Active - Good Standing</td>\n",
       "    </tr>\n",
       "    <tr>\n",
       "      <th>1</th>\n",
       "      <td>2</td>\n",
       "      <td>Active - Good Standing</td>\n",
       "    </tr>\n",
       "    <tr>\n",
       "      <th>2</th>\n",
       "      <td>3</td>\n",
       "      <td>Active - Bad Standing</td>\n",
       "    </tr>\n",
       "    <tr>\n",
       "      <th>3</th>\n",
       "      <td>4</td>\n",
       "      <td>Closed - Obligations met</td>\n",
       "    </tr>\n",
       "    <tr>\n",
       "      <th>4</th>\n",
       "      <td>5</td>\n",
       "      <td>Active - Good Standing</td>\n",
       "    </tr>\n",
       "    <tr>\n",
       "      <th>5</th>\n",
       "      <td>6</td>\n",
       "      <td>Closed - Obligations met</td>\n",
       "    </tr>\n",
       "    <tr>\n",
       "      <th>6</th>\n",
       "      <td>7</td>\n",
       "      <td>Active - Good Standing</td>\n",
       "    </tr>\n",
       "    <tr>\n",
       "      <th>7</th>\n",
       "      <td>8</td>\n",
       "      <td>Active - Good Standing</td>\n",
       "    </tr>\n",
       "    <tr>\n",
       "      <th>8</th>\n",
       "      <td>9</td>\n",
       "      <td>Active - Good Standing</td>\n",
       "    </tr>\n",
       "  </tbody>\n",
       "</table>\n",
       "</div>"
      ],
      "text/plain": [
       "   row_number         Model_predciction\n",
       "0           1    Active - Good Standing\n",
       "1           2    Active - Good Standing\n",
       "2           3     Active - Bad Standing\n",
       "3           4  Closed - Obligations met\n",
       "4           5    Active - Good Standing\n",
       "5           6  Closed - Obligations met\n",
       "6           7    Active - Good Standing\n",
       "7           8    Active - Good Standing\n",
       "8           9    Active - Good Standing"
      ]
     },
     "execution_count": 56,
     "metadata": {},
     "output_type": "execute_result"
    }
   ],
   "source": [
    "ain=input('enter path of file (eg: C:/Users/Administrator/Desktop/TEST.csv)')\n",
    "testing=pd.read_csv(ain)\n",
    "data11=testing\n",
    "df11=data11.drop(['Linkedin.is.Verified','Facebook.is.Verified','EPFO.Verification.Status','UTM.Source','Detailed.reason.by.Applicant'],axis=1)\n",
    "df11['CRIF.S1.Score'].fillna(0, inplace=True)\n",
    "for i in df11.columns:\n",
    "    df11[i].fillna(df11[i].mode()[0], inplace=True)\n",
    "numerics = ['int16', 'int32', 'int64', 'float16', 'float32', 'float64']\n",
    "newdf11 = df11.select_dtypes(include=numerics)\n",
    "test_pred = model_4aa.predict(newdf11)\n",
    "df_test_pred = pd.DataFrame(test_pred, columns=['Model_predciction'])\n",
    "df_test_pred['row_number'] = newdf11.index + 1\n",
    "df_test_pred[['row_number', 'Model_predciction']].to_csv('submission.csv', index=False)\n",
    "pd.read_csv('submission.csv')"
   ]
  }
 ],
 "metadata": {
  "kernelspec": {
   "display_name": "Python 3",
   "language": "python",
   "name": "python3"
  },
  "language_info": {
   "codemirror_mode": {
    "name": "ipython",
    "version": 3
   },
   "file_extension": ".py",
   "mimetype": "text/x-python",
   "name": "python",
   "nbconvert_exporter": "python",
   "pygments_lexer": "ipython3",
   "version": "3.5.2"
  }
 },
 "nbformat": 4,
 "nbformat_minor": 2
}
